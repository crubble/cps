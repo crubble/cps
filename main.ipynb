{
 "cells": [
  {
   "cell_type": "code",
   "execution_count": 1,
   "metadata": {},
   "outputs": [],
   "source": [
    "from numpy.polynomial import Polynomial\n",
    "from numpy.polynomial.polynomial import polydiv\n",
    "from phe import paillier\n",
    "from numpy import prod\n",
    "import secrets"
   ]
  },
  {
   "cell_type": "code",
   "execution_count": 819,
   "metadata": {},
   "outputs": [],
   "source": [
    "class Player:\n",
    "    \"\"\"\n",
    "    Class of honest-but-curious adversaries.\n",
    "\n",
    "    Parameters\n",
    "    ----------\n",
    "    S : set_like\n",
    "    sk : secret key to a homomorpic cryptosystem\n",
    "    \"\"\"\n",
    "    def __init__(self, S, sk):\n",
    "        self.S = S\n",
    "        self.k = len(S)\n",
    "        self.sk = sk\n",
    "        self.f_list = []\n",
    "        self.N = sk.public_key.n\n",
    "    \n",
    "    def polynomial(self):\n",
    "        # cria o polinómio f a partir do conjunto S \n",
    "        self.f = Polynomial.fromroots(self.S)\n",
    "    \n",
    "    def encrypt(self, pk):\n",
    "        # encipta o polinómio f com pk\n",
    "        self.ef = self.f #Polynomial([pk.encrypt(x) for x in self.f.coef])                                 HERE\n",
    "    \n",
    "    def append_f(self, encrypted_polynomial):\n",
    "        # adiciona polinomio encriptado de outro jogador a f_list\n",
    "        self.f_list.append(encrypted_polynomial)\n",
    "\n",
    "    def receive_l(self, encrypted_polynomial):\n",
    "        # recebe lambda_i-1\n",
    "        self.lam_im1 = encrypted_polynomial\n",
    "    \n",
    "    def receive_p(self, encrypted_polynomial):\n",
    "        #recebe p = lambda_n\n",
    "        self.ep = encrypted_polynomial\n",
    "\n",
    "    def phi(self):\n",
    "        # calcula phi_i\n",
    "        c = len(self.f_list)\n",
    "        r = []\n",
    "        for _ in range(c):\n",
    "            r.append(Polynomial([secrets.randbelow(self.N) for _ in range(self.k + 1)])) \n",
    "        self.phi_i = sum([prod([self.f_list[j],r[j]]) for j in range(c)])\n",
    "        #for x in self.phi_i.coef:                                                                          HERE\n",
    "        #    x.obfuscate() #re-randomização dos coeficientes\n",
    "\n",
    "    def lam(self):\n",
    "        # calcula lambda_i\n",
    "        self.lam_i = self.lam_im1 + self.phi_i\n",
    "        #for x in self.lam_i.coef:                                                                          HERE\n",
    "        #    x.obfuscate() #re-randomização dos coeficientes\n",
    "    \n",
    "    def decrypt(self):\n",
    "        self.p = self.ep #Polynomial([self.sk.decrypt(x) for x in self.ep.coef])                            HERE\n",
    "\n",
    "    def multiset(self):\n",
    "        # calcula o multiset de intersecção na forma [(a,b),...,(a,b)], a \\in S_i\n",
    "        # onde o elemento a aparece b vezes no multiset\n",
    "        res = []\n",
    "        for elem in self.S:\n",
    "            degree = 0\n",
    "            poly = self.p\n",
    "            quo, rem = polydiv(poly.coef, (-elem, 1))\n",
    "            while all(rem == 0):\n",
    "                degree += 1\n",
    "                poly = quo\n",
    "                quo, rem = polydiv(poly, (-elem, 1))\n",
    "            if degree > 0:\n",
    "                res.append((elem, degree))\n",
    "        self.intersection = res\n",
    "\n",
    "    "
   ]
  },
  {
   "cell_type": "markdown",
   "metadata": {},
   "source": [
    "Soma de polinómios encriptados: `a.ef + b.ef`\n",
    "\n",
    "Produto de polinímio não encriptado com polinómio encriptado: `a.f * b.ef`\n",
    "\n",
    "Derivada de polinómio encriptado: `a.ef.deriv(d)`\n",
    "\n",
    "Avaliação de um polinómio encriptado num ponto não encriptado: `a.ef(x)`\n"
   ]
  },
  {
   "cell_type": "markdown",
   "metadata": {},
   "source": [
    "Função da secção 5.1"
   ]
  },
  {
   "cell_type": "code",
   "execution_count": 838,
   "metadata": {},
   "outputs": [
    {
     "name": "stderr",
     "output_type": "stream",
     "text": [
      "<>:13: SyntaxWarning: assertion is always true, perhaps remove parentheses?\n",
      "<>:14: SyntaxWarning: assertion is always true, perhaps remove parentheses?\n",
      "<>:15: SyntaxWarning: assertion is always true, perhaps remove parentheses?\n",
      "<>:13: SyntaxWarning: assertion is always true, perhaps remove parentheses?\n",
      "<>:14: SyntaxWarning: assertion is always true, perhaps remove parentheses?\n",
      "<>:15: SyntaxWarning: assertion is always true, perhaps remove parentheses?\n",
      "C:\\Users\\nefra\\AppData\\Local\\Temp\\ipykernel_14040\\1799516997.py:13: SyntaxWarning: assertion is always true, perhaps remove parentheses?\n",
      "  assert(n >= 2, \"Not enough players\")\n",
      "C:\\Users\\nefra\\AppData\\Local\\Temp\\ipykernel_14040\\1799516997.py:14: SyntaxWarning: assertion is always true, perhaps remove parentheses?\n",
      "  assert(c < n, \"Dishonestly colluding too large\")\n",
      "C:\\Users\\nefra\\AppData\\Local\\Temp\\ipykernel_14040\\1799516997.py:15: SyntaxWarning: assertion is always true, perhaps remove parentheses?\n",
      "  assert(all([player.k == players[0].k for player in players]),\\\n"
     ]
    }
   ],
   "source": [
    "def psi(players, c, pk):\n",
    "    \"\"\"\n",
    "    Perform a private Set-Intersection secure against a coalition of honest-but-curious\n",
    "    adversaries.\n",
    "\n",
    "    Parameters\n",
    "    ----------\n",
    "    players : array_like construct of class Player elements\n",
    "    c : dishonestly colluding constant\n",
    "    pk: public key to a homomorpic cryptosystem\n",
    "    \"\"\"\n",
    "    n = len(players)\n",
    "    assert(n >= 2, \"Not enough players\")\n",
    "    assert(c < n, \"Dishonestly colluding too large\")\n",
    "    assert(all([player.k == players[0].k for player in players]),\\\n",
    "        \"Differently sized private sets\")\n",
    "    #1\n",
    "    for player in players:\n",
    "        #a\n",
    "        player.polynomial()       \n",
    "        player.encrypt(pk)\n",
    "    \n",
    "    #b\n",
    "    for i in range(n):\n",
    "        for j in range(1, c+1):\n",
    "            players[i].append_f(players[(i-j) % n].ef)\n",
    "        \n",
    "        # Qual é o domínio?? #consoante a resposta é preciso alterar a função phi\n",
    "        # DEFAULT_KEYSIZE = 3072\n",
    "        # BASE = 16\n",
    "        #c, d\n",
    "        players[i].phi()\n",
    "\n",
    "    #2\n",
    "    players[0].lam_i = players[0].phi_i\n",
    "    players[1].receive_l(players[0].lam_i)\n",
    "\n",
    "    #3\n",
    "    for i in range(1, n):\n",
    "        #a é realizado implicitamente\n",
    "        #b\n",
    "        players[i].lam()\n",
    "\n",
    "        #c\n",
    "        players[(i+1)%len(players)].receive_l(players[i].lam_i)\n",
    "    #4\n",
    "    for player in players:\n",
    "        player.receive_p(players[0].lam_i)\n",
    "\n",
    "    #5\n",
    "    for player in players:\n",
    "        player.decrypt()\n",
    "        pass\n",
    "    #6\n",
    "    for player in players:\n",
    "        player.multiset()"
   ]
  },
  {
   "cell_type": "code",
   "execution_count": 831,
   "metadata": {},
   "outputs": [],
   "source": [
    "# Generate keys\n",
    "pk, sk = paillier.generate_paillier_keypair(None, 32)\n",
    "pk.max_int = pk.n"
   ]
  },
  {
   "cell_type": "code",
   "execution_count": 832,
   "metadata": {},
   "outputs": [],
   "source": [
    "# Create players\n",
    "a = Player([1,2,3,4,5,6],sk)\n",
    "b = Player([1,1,1,1,1,1],sk)"
   ]
  },
  {
   "cell_type": "code",
   "execution_count": 840,
   "metadata": {},
   "outputs": [],
   "source": [
    "# Calculate private set\n",
    "psi([a,b],1,pk)"
   ]
  },
  {
   "cell_type": "code",
   "execution_count": 841,
   "metadata": {},
   "outputs": [
    {
     "name": "stdout",
     "output_type": "stream",
     "text": [
      "(1, 6)\n",
      "0.0\n",
      "325957204550.0\n",
      "169976347679168.0\n",
      "9486073918685394.0\n",
      "1.890044809823068e+17\n",
      "2.0580142989692188e+18\n"
     ]
    }
   ],
   "source": [
    "#find private set\n",
    "for x in a.intersection:\n",
    "    print(x)\n",
    "\n",
    "dp = a.p.deriv(0)\n",
    "for x in a.S:\n",
    "    print(dp(x))"
   ]
  },
  {
   "cell_type": "code",
   "execution_count": null,
   "metadata": {},
   "outputs": [],
   "source": [
    "#get obtained provate sets"
   ]
  },
  {
   "cell_type": "code",
   "execution_count": null,
   "metadata": {},
   "outputs": [],
   "source": [
    "#compare make sure the sets are the same"
   ]
  },
  {
   "cell_type": "code",
   "execution_count": 10,
   "metadata": {},
   "outputs": [
    {
     "name": "stdout",
     "output_type": "stream",
     "text": [
      "Soma:\n",
      "<phe.paillier.EncryptedNumber object at 0x0000014D6B532290> +\n",
      "<phe.paillier.EncryptedNumber object at 0x0000014D6BAD5910> x +\n",
      "<phe.paillier.EncryptedNumber object at 0x0000014D6B75EB10> x**2 +\n",
      "<phe.paillier.EncryptedNumber object at 0x0000014D6B76CE90> x**3\n",
      "Multiplicação:\n",
      "<phe.paillier.EncryptedNumber object at 0x0000014D6B76CE90> +\n",
      "<phe.paillier.EncryptedNumber object at 0x0000014D6B75EB10> x +\n",
      "<phe.paillier.EncryptedNumber object at 0x0000014D6B81BB90> x**2 +\n",
      "<phe.paillier.EncryptedNumber object at 0x0000014D6BAD5910> x**3 +\n",
      "<phe.paillier.EncryptedNumber object at 0x0000014D6B77A950> x**4 +\n",
      "<phe.paillier.EncryptedNumber object at 0x0000014D6B819DD0> x**5 +\n",
      "<phe.paillier.EncryptedNumber object at 0x0000014D6BB9F510> x**6\n",
      "Derivada:\n",
      "<phe.paillier.EncryptedNumber object at 0x0000014D6BAD5910> +\n",
      "<phe.paillier.EncryptedNumber object at 0x0000014D6B76CE90> x\n",
      "Avaliação:\n",
      "<phe.paillier.EncryptedNumber object at 0x0000014D6B530DD0>\n"
     ]
    }
   ],
   "source": [
    "# Teste das operações definidas em 4.2\n",
    "pk, sk = paillier.generate_paillier_keypair()\n",
    "a = Player([1,2,3],sk)\n",
    "b = Player([2,3,4],sk)\n",
    "a.polynomial()\n",
    "b.polynomial()\n",
    "a.encrypt(pk)\n",
    "b.encrypt(pk)\n",
    "\n",
    "d = 2\n",
    "x = 0\n",
    "print(f\"Soma:\\n{a.ef + b.ef}\")\n",
    "print(f\"Multiplicação:\\n{a.f * b.ef}\")\n",
    "print(f\"Derivada:\\n{a.ef.deriv(d)}\")\n",
    "print(f\"Avaliação:\\n{a.ef(x)}\")\n"
   ]
  }
 ],
 "metadata": {
  "kernelspec": {
   "display_name": "Python 3",
   "language": "python",
   "name": "python3"
  },
  "language_info": {
   "codemirror_mode": {
    "name": "ipython",
    "version": 3
   },
   "file_extension": ".py",
   "mimetype": "text/x-python",
   "name": "python",
   "nbconvert_exporter": "python",
   "pygments_lexer": "ipython3",
   "version": "3.11.7"
  }
 },
 "nbformat": 4,
 "nbformat_minor": 2
}
