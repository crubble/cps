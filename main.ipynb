{
 "cells": [
  {
   "cell_type": "code",
   "execution_count": 3,
   "metadata": {},
   "outputs": [],
   "source": [
    "from numpy.polynomial import Polynomial\n",
    "from phe import paillier\n",
    "from numpy import prod\n",
    "import random"
   ]
  },
  {
   "cell_type": "code",
   "execution_count": 3,
   "metadata": {},
   "outputs": [],
   "source": [
    "class Player:\n",
    "    \"\"\"\n",
    "    Class of honest-but-curious adversaries.\n",
    "\n",
    "    Parameters\n",
    "    ----------\n",
    "    S : set_like\n",
    "    sk : secret key to a homomorpic cryptosystem\n",
    "    \"\"\"\n",
    "    def __init__(self, S, sk):\n",
    "        self.S = S\n",
    "        self.k = len(S)\n",
    "        self.sk = sk\n",
    "        self.f_list = []\n",
    "    \n",
    "    def polynomial(self):\n",
    "        # cria o polinómio f a partir do conjunto S \n",
    "        self.f = Polynomial.fromroots(self.S)\n",
    "    \n",
    "    def encrypt(self, pk):\n",
    "        # encipta o polinómio f com pk\n",
    "        self.ef = Polynomial([pk.encrypt(x) for x in self.f.coef])\n",
    "    \n",
    "    #!!! o send não devia mandar em vez de receber???\n",
    "    def send_f(self, encrypted_polynomial):\n",
    "        # adiciona polinomio encriptado de outro jogador a f_list\n",
    "        self.f_list.append(encrypted_polynomial)\n",
    "\n",
    "    def phi():\n",
    "        # calcula phi_i\n",
    "        c = len(self.f_list)\n",
    "        r = []\n",
    "        for _ in range(c):\n",
    "            r.append(Polynomial([random.uniform(-10, 10) for _ in range(self.k + 1)]) #-10 a 10 são provisórios até perceber os bounds\n",
    "        return sum([prod([self.f_list[j],r[j]]) for j in range(c)])\n",
    "        #atenção que o phi ainda não está encriptado\n",
    "\n",
    "    #como é que funciona o mandar e receber polinómios entre jogadores?\n",
    "    def lam():\n",
    "        # calcula lambda_i\n",
    "        pass\n",
    "\n",
    "    def multiset():\n",
    "        # for each a in S_i, he calculates b such that\n",
    "        # (x - a)^b|p and (x - a)^{b+1} does not divide p\n",
    "        pass\n",
    "\n",
    "    "
   ]
  },
  {
   "cell_type": "markdown",
   "metadata": {},
   "source": [
    "Funções da secção 4.2"
   ]
  },
  {
   "cell_type": "code",
   "execution_count": null,
   "metadata": {},
   "outputs": [],
   "source": [
    "def sum_ep(f, g):\n",
    "    df = len(f)\n",
    "    dg = len(g)\n",
    "    if df<dg:\n",
    "        return [f[i]+g[i] for i in range(df)] + [g[i] for i in range(df,dg)]\n",
    "    elif df>dg:\n",
    "        return [f[i]+g[i] for i in range(dg)] + [f[i] for i in range(dg,df)]\n",
    "    else:\n",
    "        return [f[i]+g[i] for i in range(df)]"
   ]
  },
  {
   "cell_type": "code",
   "execution_count": null,
   "metadata": {},
   "outputs": [],
   "source": [
    "def product(f, g):\n",
    "    return\n",
    "#não estou a perceber bem como fazer este porque o i vai até deg(f)+deg(g)"
   ]
  },
  {
   "cell_type": "code",
   "execution_count": null,
   "metadata": {},
   "outputs": [],
   "source": [
    "def derivative(f, d):\n",
    "    if d==1:\n",
    "        return [(i+1)*f[i+1] for i in range(len(f)-1)]\n",
    "    else:\n",
    "        return derivative([(i+1)*f[i+1] for i in range(len(f)-1)], d-1)"
   ]
  },
  {
   "cell_type": "code",
   "execution_count": null,
   "metadata": {},
   "outputs": [],
   "source": [
    "def evaluation(f, b):\n",
    "    return sum([b**i*f[i]] for i in range(len(f)))"
   ]
  },
  {
   "cell_type": "markdown",
   "metadata": {},
   "source": [
    "Função da secção 5.1"
   ]
  },
  {
   "cell_type": "code",
   "execution_count": null,
   "metadata": {},
   "outputs": [],
   "source": [
    "def psi(players, c, pk):\n",
    "    \"\"\"\n",
    "    Perform a private Set-Intersection secure against a coalition of honest-but-curious\n",
    "    adversaries.\n",
    "\n",
    "    Parameters\n",
    "    ----------\n",
    "    players : array_like construct of class Player elements\n",
    "    c : dishonestly colluding constant\n",
    "    pk: public key to a homomorpic cryptosystem\n",
    "    \"\"\"\n",
    "    assert(len(players) >= 2, \"Not enough players\")\n",
    "    assert(c < len(players), \"Dishonestly colluding too large\")\n",
    "    assert(all([player.k == player[0].k for player in players]),\\\n",
    "        \"Differently sized private sets\")\n",
    "    #1\n",
    "    for player in players:\n",
    "        #a\n",
    "        player.polynomial()\n",
    "        #b\n",
    "        player.encrypt()\n",
    "        # Aqui se i + c > n e suposto voltar ao primeiro?? #diria que sim\n",
    "        for other_player in (players[i+1, i+c+1]):\n",
    "            other_player.send_f(player.ef)\n",
    "        #c\n",
    "        # Qual é o domínio??\n",
    "        # DEFAULT_KEYSIZE = 3072\n",
    "        # BASE = 16\n",
    "        #d\n",
    "    #2\n",
    "    #3\n",
    "    for player in players[1:]:\n",
    "        #a\n",
    "        #b\n",
    "        #c\n",
    "    #4\n",
    "    #5\n",
    "    p = decrypt(p)\n",
    "    #6\n",
    "    for player in players:\n",
    "        player.multiset(p)"
   ]
  },
  {
   "cell_type": "code",
   "execution_count": 3,
   "metadata": {},
   "outputs": [],
   "source": [
    "# Generate keys\n",
    "pk, sk = paillier.generate_paillier_keypair()"
   ]
  },
  {
   "cell_type": "code",
   "execution_count": 29,
   "metadata": {},
   "outputs": [],
   "source": [
    "# Create players\n",
    "a = Player([1,2,3],sk)#aqui não devia ser pk?\n",
    "b = Player([2,3,4],sk)"
   ]
  },
  {
   "cell_type": "code",
   "execution_count": null,
   "metadata": {},
   "outputs": [],
   "source": [
    "# Calculate private set\n",
    "psi()"
   ]
  },
  {
   "cell_type": "code",
   "execution_count": null,
   "metadata": {},
   "outputs": [],
   "source": [
    "#find private set"
   ]
  },
  {
   "cell_type": "code",
   "execution_count": null,
   "metadata": {},
   "outputs": [],
   "source": [
    "#get obtained provate sets"
   ]
  },
  {
   "cell_type": "code",
   "execution_count": null,
   "metadata": {},
   "outputs": [],
   "source": [
    "#compare make sure the sets are the same"
   ]
  },
  {
   "cell_type": "code",
   "execution_count": null,
   "metadata": {},
   "outputs": [],
   "source": []
  }
 ],
 "metadata": {
  "kernelspec": {
   "display_name": "Python 3",
   "language": "python",
   "name": "python3"
  },
  "language_info": {
   "codemirror_mode": {
    "name": "ipython",
    "version": 3
   },
   "file_extension": ".py",
   "mimetype": "text/x-python",
   "name": "python",
   "nbconvert_exporter": "python",
   "pygments_lexer": "ipython3",
   "version": "3.8.3"
  }
 },
 "nbformat": 4,
 "nbformat_minor": 2
}
