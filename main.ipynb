{
 "cells": [
  {
   "cell_type": "code",
   "execution_count": 13,
   "metadata": {},
   "outputs": [],
   "source": [
    "from numpy.polynomial import Polynomial\n",
    "from numpy.polynomial.polynomial import polydiv\n",
    "from phe import paillier\n",
    "from numpy import prod\n",
    "import secrets"
   ]
  },
  {
   "cell_type": "code",
   "execution_count": 2,
   "metadata": {},
   "outputs": [],
   "source": [
    "class Player:\n",
    "    \"\"\"\n",
    "    Class of honest-but-curious adversaries.\n",
    "\n",
    "    Parameters\n",
    "    ----------\n",
    "    S : set_like\n",
    "    sk : secret key to a homomorpic cryptosystem\n",
    "    \"\"\"\n",
    "    def __init__(self, S, sk):\n",
    "        self.S = S\n",
    "        self.k = len(S)\n",
    "        self.sk = sk\n",
    "        self.f_list = []\n",
    "    \n",
    "    def polynomial(self):\n",
    "        # cria o polinómio f a partir do conjunto S \n",
    "        self.f = Polynomial.fromroots(self.S)\n",
    "    \n",
    "    def encrypt(self, pk):\n",
    "        # encipta o polinómio f com pk\n",
    "        self.ef = Polynomial([pk.encrypt(x) for x in self.f.coef])\n",
    "    \n",
    "    def append_f(self, encrypted_polynomial):\n",
    "        # adiciona polinomio encriptado de outro jogador a f_list\n",
    "        self.f_list.append(encrypted_polynomial)\n",
    "\n",
    "    def receive_l(self, encrypted_polynomial):\n",
    "        # recebe lambda_i-1\n",
    "        self.lam_im1 = encrypted_polynomial\n",
    "    \n",
    "    def receive_p(self, encrypted_polynomial):\n",
    "        #recebe p = lambda_n\n",
    "        self.ep = encrypted_polynomial\n",
    "\n",
    "    def phi(self):\n",
    "        # calcula phi_i\n",
    "        c = len(self.f_list)\n",
    "        r = []\n",
    "        for _ in range(c):\n",
    "            r.append(Polynomial([secrets.randbelow(N) for _ in range(self.k + 1)])) #N a ser substituído pelo domínio\n",
    "        phi_i = sum([prod([self.f_list[j],r[j]]) for j in range(c)]) #é suposto encriptar o phi, ou ele por construção já é encriptado?\n",
    "        self.phi = Polynomial([sk.encrypt(x) for x in phi_i.coef]) #assumindo que encriptas o phi com o sk\n",
    "\n",
    "    def lam(self):\n",
    "        # calcula lambda_i\n",
    "        self.lam_i = self.lam_im1 + self.phi_i\n",
    "        for x in self.lam_i.coef:\n",
    "            x.obfuscate() #re-randomização dos coeficientes\n",
    "    \n",
    "    def decrypt(self):\n",
    "        self.p = [sk.decrypt(x) for x in self.ep.coef]\n",
    "\n",
    "    def multiset(self):\n",
    "        # calcula o multiset de intersecção na forma [(a,b),...,(a,b)], a \\in S_i\n",
    "        # onde o elemento a aparece b vezes no multiset\n",
    "        p = self.p\n",
    "        res = []\n",
    "        for a in self.S:\n",
    "            b = 0\n",
    "            quo, rem = polydiv(p, (-a, 1))\n",
    "            while all(rem == 0):\n",
    "                b += 1\n",
    "                p = quo\n",
    "                quo, rem = polydiv(p, (-a, 1))\n",
    "            res.append((a,b))\n",
    "        self.intersection = res\n",
    "\n",
    "    "
   ]
  },
  {
   "cell_type": "markdown",
   "metadata": {},
   "source": [
    "Soma de polinómios encriptados: `a.ef + b.ef`\n",
    "\n",
    "Produto de polinímio não encriptado com polinómio encriptado: `a.f * b.ef`\n",
    "\n",
    "Derivada de polinómio encriptado: `a.ef.deriv(d)`\n",
    "\n",
    "Avaliação de um polinómio encriptado num ponto não encriptado: `a.ef(x)`\n"
   ]
  },
  {
   "cell_type": "markdown",
   "metadata": {},
   "source": [
    "Função da secção 5.1"
   ]
  },
  {
   "cell_type": "code",
   "execution_count": null,
   "metadata": {},
   "outputs": [],
   "source": [
    "def psi(players, c, pk):\n",
    "    \"\"\"\n",
    "    Perform a private Set-Intersection secure against a coalition of honest-but-curious\n",
    "    adversaries.\n",
    "\n",
    "    Parameters\n",
    "    ----------\n",
    "    players : array_like construct of class Player elements\n",
    "    c : dishonestly colluding constant\n",
    "    pk: public key to a homomorpic cryptosystem\n",
    "    \"\"\"\n",
    "    n = len(players)\n",
    "    assert(n >= 2, \"Not enough players\")\n",
    "    assert(c < n, \"Dishonestly colluding too large\")\n",
    "    assert(all([player.k == player[0].k for player in players]),\\\n",
    "        \"Differently sized private sets\")\n",
    "    #1\n",
    "    for player in players:\n",
    "        #a\n",
    "        player.polynomial()       \n",
    "        player.encrypt()\n",
    "    \n",
    "    #b\n",
    "    for i in range(n):\n",
    "        for j in range(1, c+1):\n",
    "            player.append_f(players[(i-j) % n].ef)\n",
    "        \n",
    "        # Qual é o domínio?? #consoante a resposta é preciso alterar a função phi\n",
    "        # DEFAULT_KEYSIZE = 3072\n",
    "        # BASE = 16\n",
    "        #c, d\n",
    "        players[i].phi()\n",
    "\n",
    "    #2\n",
    "    players[1].receive_l(players[0].phi_i)\n",
    "\n",
    "    #3\n",
    "    for i in range(1, n):\n",
    "        #a é realizado implicitamente\n",
    "        #b\n",
    "        players[i].lam()\n",
    "\n",
    "        #c\n",
    "        players[(i+1)%len(players)].receive_l(players[i].lam_i)\n",
    "    #4\n",
    "    for player in players:\n",
    "        player.receive_p(players[0].lam_i)\n",
    "\n",
    "    #5\n",
    "    for player in players:\n",
    "        player.decrypt()\n",
    "    #6\n",
    "    for player in players:\n",
    "        player.multiset()"
   ]
  },
  {
   "cell_type": "code",
   "execution_count": 6,
   "metadata": {},
   "outputs": [],
   "source": [
    "# Generate keys\n",
    "pk, sk = paillier.generate_paillier_keypair()"
   ]
  },
  {
   "cell_type": "code",
   "execution_count": 7,
   "metadata": {},
   "outputs": [],
   "source": [
    "# Create players\n",
    "a = Player([1,2,3],sk)#aqui não devia ser pk?\n",
    "b = Player([2,3,4],sk)"
   ]
  },
  {
   "cell_type": "code",
   "execution_count": null,
   "metadata": {},
   "outputs": [],
   "source": [
    "# Calculate private set\n",
    "psi()"
   ]
  },
  {
   "cell_type": "code",
   "execution_count": null,
   "metadata": {},
   "outputs": [],
   "source": [
    "#find private set"
   ]
  },
  {
   "cell_type": "code",
   "execution_count": null,
   "metadata": {},
   "outputs": [],
   "source": [
    "#get obtained provate sets"
   ]
  },
  {
   "cell_type": "code",
   "execution_count": null,
   "metadata": {},
   "outputs": [],
   "source": [
    "#compare make sure the sets are the same"
   ]
  },
  {
   "cell_type": "code",
   "execution_count": 31,
   "metadata": {},
   "outputs": [
    {
     "name": "stdout",
     "output_type": "stream",
     "text": [
      "Soma:\n",
      "<phe.paillier.EncryptedNumber object at 0x75d85414ca40> +\n",
      "<phe.paillier.EncryptedNumber object at 0x75d84ff1c950>·x +\n",
      "<phe.paillier.EncryptedNumber object at 0x75d84ff1fe90>·x² +\n",
      "<phe.paillier.EncryptedNumber object at 0x75d84ff1ec60>·x³\n",
      "Multiplicação:\n",
      "<phe.paillier.EncryptedNumber object at 0x75d8546ffc80> +\n",
      "<phe.paillier.EncryptedNumber object at 0x75d84ff1e4e0>·x +\n",
      "<phe.paillier.EncryptedNumber object at 0x75d84ff1fd40>·x² +\n",
      "<phe.paillier.EncryptedNumber object at 0x75d84ff1c530>·x³ +\n",
      "<phe.paillier.EncryptedNumber object at 0x75d84ff1fe90>·x⁴ +\n",
      "<phe.paillier.EncryptedNumber object at 0x75d84ff1c950>·x⁵ +\n",
      "<phe.paillier.EncryptedNumber object at 0x75d84ff1f290>·x⁶\n",
      "Derivada:\n",
      "<phe.paillier.EncryptedNumber object at 0x75d8541cd400> +\n",
      "<phe.paillier.EncryptedNumber object at 0x75d84ff1c530>·x\n",
      "Avaliação:\n",
      "<phe.paillier.EncryptedNumber object at 0x75d84ff1ee10>\n"
     ]
    }
   ],
   "source": [
    "# Teste das operações definidas em 4.2\n",
    "pk, sk = paillier.generate_paillier_keypair()\n",
    "a = Player([1,2,3],sk)\n",
    "b = Player([2,3,4],sk)\n",
    "a.polynomial()\n",
    "b.polynomial()\n",
    "a.encrypt(pk)\n",
    "b.encrypt(pk)\n",
    "\n",
    "d = 2\n",
    "x = 0\n",
    "print(f\"Soma:\\n{a.ef + b.ef}\")\n",
    "print(f\"Multiplicação:\\n{a.f * b.ef}\")\n",
    "print(f\"Derivada:\\n{a.ef.deriv(d)}\")\n",
    "print(f\"Avaliação:\\n{a.ef(x)}\")\n"
   ]
  }
 ],
 "metadata": {
  "kernelspec": {
   "display_name": "base",
   "language": "python",
   "name": "python3"
  },
  "language_info": {
   "codemirror_mode": {
    "name": "ipython",
    "version": 3
   },
   "file_extension": ".py",
   "mimetype": "text/x-python",
   "name": "python",
   "nbconvert_exporter": "python",
   "pygments_lexer": "ipython3",
   "version": "3.11.7"
  }
 },
 "nbformat": 4,
 "nbformat_minor": 2
}
