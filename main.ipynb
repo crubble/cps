{
 "cells": [
  {
   "cell_type": "code",
   "execution_count": 1,
   "metadata": {},
   "outputs": [],
   "source": [
    "from numpy.polynomial import Polynomial\n",
    "from phe import paillier\n",
    "from numpy import prod\n",
    "import random"
   ]
  },
  {
   "cell_type": "code",
   "execution_count": 4,
   "metadata": {},
   "outputs": [],
   "source": [
    "class Player:\n",
    "    \"\"\"\n",
    "    Class of honest-but-curious adversaries.\n",
    "\n",
    "    Parameters\n",
    "    ----------\n",
    "    S : set_like\n",
    "    sk : secret key to a homomorpic cryptosystem\n",
    "    \"\"\"\n",
    "    def __init__(self, S, sk):\n",
    "        self.S = S\n",
    "        self.k = len(S)\n",
    "        self.sk = sk\n",
    "        self.f_list = []\n",
    "    \n",
    "    def polynomial(self):\n",
    "        # cria o polinómio f a partir do conjunto S \n",
    "        self.f = Polynomial.fromroots(self.S)\n",
    "    \n",
    "    def encrypt(self, pk):\n",
    "        # encipta o polinómio f com pk\n",
    "        self.ef = Polynomial([pk.encrypt(x) for x in self.f.coef])\n",
    "    \n",
    "    #!!! o send não devia mandar em vez de receber???\n",
    "    def append_f(self, encrypted_polynomial):\n",
    "        # adiciona polinomio encriptado de outro jogador a f_list\n",
    "        self.f_list.append(encrypted_polynomial)\n",
    "\n",
    "    def phi():\n",
    "        # calcula phi_i\n",
    "        c = len(self.f_list)\n",
    "        r = []\n",
    "        for _ in range(c):\n",
    "            r.append(Polynomial([random.uniform(-10, 10) for _ in range(self.k + 1)])) #-10 a 10 são provisórios até perceber os bounds\n",
    "        return sum([prod([self.f_list[j],r[j]]) for j in range(c)])\n",
    "        #atenção que o phi ainda não está encriptado\n",
    "\n",
    "    #como é que funciona o mandar e receber polinómios entre jogadores?\n",
    "    def lam():\n",
    "        # calcula lambda_i\n",
    "        pass\n",
    "\n",
    "    def multiset():\n",
    "        # for each a in S_i, he calculates b such that\n",
    "        # (x - a)^b|p and (x - a)^{b+1} does not divide p\n",
    "        pass\n",
    "\n",
    "    "
   ]
  },
  {
   "cell_type": "markdown",
   "metadata": {},
   "source": [
    "Soma de polinómios encriptados: `a.ef + b.ef`\n",
    "\n",
    "Produto de polinímio não encriptado com polinómio encriptado: `a.f * b.ef`\n",
    "\n",
    "Derivada de polinómio encriptado: `a.ef.deriv(d)`\n",
    "\n",
    "Avaliação de um polinómio encriptado num ponto não encriptado: `a.ef(x)`\n"
   ]
  },
  {
   "cell_type": "markdown",
   "metadata": {},
   "source": [
    "Função da secção 5.1"
   ]
  },
  {
   "cell_type": "code",
   "execution_count": null,
   "metadata": {},
   "outputs": [],
   "source": [
    "def psi(players, c, pk):\n",
    "    \"\"\"\n",
    "    Perform a private Set-Intersection secure against a coalition of honest-but-curious\n",
    "    adversaries.\n",
    "\n",
    "    Parameters\n",
    "    ----------\n",
    "    players : array_like construct of class Player elements\n",
    "    c : dishonestly colluding constant\n",
    "    pk: public key to a homomorpic cryptosystem\n",
    "    \"\"\"\n",
    "    assert(len(players) >= 2, \"Not enough players\")\n",
    "    assert(c < len(players), \"Dishonestly colluding too large\")\n",
    "    assert(all([player.k == player[0].k for player in players]),\\\n",
    "        \"Differently sized private sets\")\n",
    "    #1\n",
    "    for player in players:\n",
    "        #a\n",
    "        player.polynomial()\n",
    "        #b\n",
    "        player.encrypt()\n",
    "        # Aqui se i + c > n e suposto voltar ao primeiro?? #diria que sim\n",
    "        for other_player in (players[i+1, i+c+1]):\n",
    "            other_player.append_f(player.ef)\n",
    "        #c\n",
    "        # Qual é o domínio??\n",
    "        # DEFAULT_KEYSIZE = 3072\n",
    "        # BASE = 16\n",
    "        #d\n",
    "    #2\n",
    "    #3\n",
    "    for player in players[1:]:\n",
    "        #a\n",
    "        #b\n",
    "        #c\n",
    "    #4\n",
    "    #5\n",
    "    p = decrypt(p)\n",
    "    #6\n",
    "    for player in players:\n",
    "        player.multiset(p)"
   ]
  },
  {
   "cell_type": "code",
   "execution_count": 6,
   "metadata": {},
   "outputs": [],
   "source": [
    "# Generate keys\n",
    "pk, sk = paillier.generate_paillier_keypair()"
   ]
  },
  {
   "cell_type": "code",
   "execution_count": 7,
   "metadata": {},
   "outputs": [],
   "source": [
    "# Create players\n",
    "a = Player([1,2,3],sk)#aqui não devia ser pk?\n",
    "b = Player([2,3,4],sk)"
   ]
  },
  {
   "cell_type": "code",
   "execution_count": null,
   "metadata": {},
   "outputs": [],
   "source": [
    "# Calculate private set\n",
    "psi()"
   ]
  },
  {
   "cell_type": "code",
   "execution_count": null,
   "metadata": {},
   "outputs": [],
   "source": [
    "#find private set"
   ]
  },
  {
   "cell_type": "code",
   "execution_count": null,
   "metadata": {},
   "outputs": [],
   "source": [
    "#get obtained provate sets"
   ]
  },
  {
   "cell_type": "code",
   "execution_count": null,
   "metadata": {},
   "outputs": [],
   "source": [
    "#compare make sure the sets are the same"
   ]
  },
  {
   "cell_type": "code",
   "execution_count": 31,
   "metadata": {},
   "outputs": [
    {
     "name": "stdout",
     "output_type": "stream",
     "text": [
      "Soma:\n",
      "<phe.paillier.EncryptedNumber object at 0x75d85414ca40> +\n",
      "<phe.paillier.EncryptedNumber object at 0x75d84ff1c950>·x +\n",
      "<phe.paillier.EncryptedNumber object at 0x75d84ff1fe90>·x² +\n",
      "<phe.paillier.EncryptedNumber object at 0x75d84ff1ec60>·x³\n",
      "Multiplicação:\n",
      "<phe.paillier.EncryptedNumber object at 0x75d8546ffc80> +\n",
      "<phe.paillier.EncryptedNumber object at 0x75d84ff1e4e0>·x +\n",
      "<phe.paillier.EncryptedNumber object at 0x75d84ff1fd40>·x² +\n",
      "<phe.paillier.EncryptedNumber object at 0x75d84ff1c530>·x³ +\n",
      "<phe.paillier.EncryptedNumber object at 0x75d84ff1fe90>·x⁴ +\n",
      "<phe.paillier.EncryptedNumber object at 0x75d84ff1c950>·x⁵ +\n",
      "<phe.paillier.EncryptedNumber object at 0x75d84ff1f290>·x⁶\n",
      "Derivada:\n",
      "<phe.paillier.EncryptedNumber object at 0x75d8541cd400> +\n",
      "<phe.paillier.EncryptedNumber object at 0x75d84ff1c530>·x\n",
      "Avaliação:\n",
      "<phe.paillier.EncryptedNumber object at 0x75d84ff1ee10>\n"
     ]
    }
   ],
   "source": [
    "# Teste das operações definidas em 4.2\n",
    "pk, sk = paillier.generate_paillier_keypair()\n",
    "a = Player([1,2,3],sk)\n",
    "b = Player([2,3,4],sk)\n",
    "a.polynomial()\n",
    "b.polynomial()\n",
    "a.encrypt(pk)\n",
    "b.encrypt(pk)\n",
    "\n",
    "d = 2\n",
    "x = 0\n",
    "print(f\"Soma:\\n{a.ef + b.ef}\")\n",
    "print(f\"Multiplicação:\\n{a.f * b.ef}\")\n",
    "print(f\"Derivada:\\n{a.ef.deriv(d)}\")\n",
    "print(f\"Avaliação:\\n{a.ef(x)}\")\n"
   ]
  }
 ],
 "metadata": {
  "kernelspec": {
   "display_name": "cps",
   "language": "python",
   "name": "cps"
  },
  "language_info": {
   "codemirror_mode": {
    "name": "ipython",
    "version": 3
   },
   "file_extension": ".py",
   "mimetype": "text/x-python",
   "name": "python",
   "nbconvert_exporter": "python",
   "pygments_lexer": "ipython3",
   "version": "3.12.3"
  }
 },
 "nbformat": 4,
 "nbformat_minor": 2
}
