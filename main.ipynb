{
 "cells": [
  {
   "cell_type": "code",
   "execution_count": 27,
   "metadata": {},
   "outputs": [],
   "source": [
    "from numpy.polynomial import Polynomial\n",
    "from phe import paillier\n",
    "from numpy import prod"
   ]
  },
  {
   "cell_type": "code",
   "execution_count": 24,
   "metadata": {},
   "outputs": [],
   "source": [
    "class Player:\n",
    "    def __init__(self, S, sk):\n",
    "        self.S = S\n",
    "        self.k = len(S)\n",
    "        self.sk = sk\n",
    "        self.f_list = []\n",
    "\n",
    "    def polynomial(self):\n",
    "        self.f = prod([Polynomial([1, -s]) for s in self.S])\n",
    "\n",
    "    def encrypt(self, pk):\n",
    "        # encrypted self.f\n",
    "        return \n",
    "\n",
    "    def send_f(self, encrypted_polynomial):\n",
    "        # adiciona polinomio encriptado de outro player a f_list\n",
    "        self.f_list.append(encrypted_polynomial)\n",
    "\n",
    "    def phi():\n",
    "        # calcula phi_i\n",
    "        return\n",
    "\n",
    "    def lambda():\n",
    "        # calcula lambda_i\n",
    "        return\n",
    "\n",
    "    def multiset():\n",
    "        # for each a in S_i, he calculates b such that\n",
    "        # (x - a)^b|p and (x - a)^{b+1} does not divide p\n",
    "        return\n",
    "\n",
    "    "
   ]
  },
  {
   "cell_type": "code",
   "execution_count": 25,
   "metadata": {},
   "outputs": [],
   "source": [
    "a = Player([1,2,3],69)\n",
    "b = Player([2,3,4],69)"
   ]
  },
  {
   "cell_type": "markdown",
   "metadata": {},
   "source": [
    "Funções da secção 4.2"
   ]
  },
  {
   "cell_type": "code",
   "execution_count": null,
   "metadata": {},
   "outputs": [],
   "source": [
    "def sum(f, g):\n",
    "    return"
   ]
  },
  {
   "cell_type": "code",
   "execution_count": null,
   "metadata": {},
   "outputs": [],
   "source": [
    "def product(f, g):\n",
    "    return"
   ]
  },
  {
   "cell_type": "code",
   "execution_count": null,
   "metadata": {},
   "outputs": [],
   "source": [
    "def derivative(f, d):\n",
    "    return"
   ]
  },
  {
   "cell_type": "code",
   "execution_count": null,
   "metadata": {},
   "outputs": [],
   "source": [
    "def evaluation(f, b):\n",
    "    return"
   ]
  },
  {
   "cell_type": "markdown",
   "metadata": {},
   "source": [
    "Função da secção 5.1"
   ]
  },
  {
   "cell_type": "code",
   "execution_count": null,
   "metadata": {},
   "outputs": [],
   "source": [
    "def psi(players, c):\n",
    "    \"\"\"\n",
    "    Perform a private Set-Intersection secure against a coalition of honest-but-curious\n",
    "    adversaries.\n",
    "\n",
    "    Parameters\n",
    "    ----------\n",
    "    players : array_like construct of class Player elements\n",
    "    c : dishonestly colluding constant\n",
    "    \"\"\"\n",
    "    assert(len(players) >= 2, \"Not enough players\")\n",
    "    assert(c < len(players), \"Dishonestly colluding too large\")\n",
    "    assert(all([player.k == player[0].k for player in players]),\\\n",
    "        \"Differently sized private sets\")\n",
    "    \n",
    "    #1\n",
    "    for player in players:\n",
    "        #a\n",
    "        player.polynomial()\n",
    "        #b\n",
    "        for other_player in range(i + 1, i + c + 1):\n",
    "            other_player.send_f(player.f)\n",
    "        #c\n",
    "        #d\n",
    "    #2\n",
    "    #3\n",
    "    for player in players[1:]:\n",
    "        #a\n",
    "        #b\n",
    "        #c\n",
    "    #4\n",
    "    #5\n",
    "    p = decrypt(p)\n",
    "    #6\n",
    "    for player in players:\n",
    "        player.multiset(p)"
   ]
  }
 ],
 "metadata": {
  "kernelspec": {
   "display_name": "cps",
   "language": "python",
   "name": "cps"
  },
  "language_info": {
   "codemirror_mode": {
    "name": "ipython",
    "version": 3
   },
   "file_extension": ".py",
   "mimetype": "text/x-python",
   "name": "python",
   "nbconvert_exporter": "python",
   "pygments_lexer": "ipython3",
   "version": "3.12.3"
  }
 },
 "nbformat": 4,
 "nbformat_minor": 2
}
