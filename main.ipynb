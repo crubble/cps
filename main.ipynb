{
 "cells": [
  {
   "cell_type": "code",
   "execution_count": 1,
   "metadata": {},
   "outputs": [],
   "source": [
    "from numpy.polynomial import Polynomial\n",
    "from numpy.polynomial.polynomial import polydiv\n",
    "from phe import paillier\n",
    "from phe.util import getprimeover, invert, powmod\n",
    "import numpy as np\n",
    "import secrets"
   ]
  },
  {
   "cell_type": "code",
   "execution_count": 237,
   "metadata": {},
   "outputs": [],
   "source": [
    "def L(x, n):\n",
    "    return (x - 1) // n\n",
    "\n",
    "class PublicKey:\n",
    "    def __init__(self, n, g):\n",
    "        self.n = n\n",
    "        self.g = g\n",
    "\n",
    "    def encrypt(self, m):\n",
    "        n = self.n\n",
    "        g = self.g\n",
    "        r = 0\n",
    "        while r == 0:\n",
    "            r = secrets.randbelow(self.n)\n",
    "        \n",
    "        return (powmod(g, m, n**2)) * (powmod(r, n, n**2)) % n**2\n",
    "    \n",
    "    def add(self, ctext1, ctext2):\n",
    "        return (ctext1 * ctext2) % self.n**2\n",
    "    \n",
    "    def mul(self, ctext, ptext):\n",
    "        return powmod(ctext, ptext, self.n**2)\n",
    "\n",
    "\n",
    "class PrivateKey:\n",
    "    def __init__(self, lam, mu, pk):\n",
    "        self.lam = lam\n",
    "        self.mu = mu\n",
    "        self.pk = pk\n",
    "\n",
    "    def decrypt(self, c):\n",
    "        lam = self.lam\n",
    "        mu = self.mu\n",
    "        n = self.pk.n\n",
    "\n",
    "        return ((L(powmod(c, lam, n**2), n) % n) * mu) % n\n",
    "\n",
    "\n",
    "def generateKeyPair(n_length):\n",
    "    p = q = n = None\n",
    "    n_len = 0\n",
    "    while n_len != n_length:\n",
    "        p = getprimeover(n_length // 2)\n",
    "        q = getprimeover(n_length // 2)\n",
    "        n = p * q\n",
    "        n_len = n.bit_length()\n",
    "\n",
    "    g = n + 1\n",
    "    phi_n = (p - 1) * (q - 1)\n",
    "    lam = phi_n\n",
    "    mu = invert(phi_n, n)\n",
    "\n",
    "    pk = PublicKey(n, g)\n",
    "    sk = PrivateKey(lam, mu, pk)\n",
    "\n",
    "    return pk, sk"
   ]
  },
  {
   "cell_type": "code",
   "execution_count": 353,
   "metadata": {},
   "outputs": [],
   "source": [
    "class MyPolynomial:\n",
    "    def __init__(self, coef):\n",
    "        self.coef = []\n",
    "        for x in coef:\n",
    "            self.coef.append(int(x))\n",
    "\n",
    "    def __call__(self, x, n):\n",
    "        y = 0\n",
    "        for i in range(self.n_coef()):\n",
    "            y += (self.coef[i] * powmod(x, i, n)) % n\n",
    "            y %= n\n",
    "        return y\n",
    "\n",
    "    def empty(n):\n",
    "        return MyPolynomial(np.zeros(n))\n",
    "\n",
    "    def fromroots(roots):\n",
    "        new_poly = MyPolynomial([1])\n",
    "        for x in roots:\n",
    "            new_poly = new_poly.mul(MyPolynomial([-x, 1]))\n",
    "        return new_poly\n",
    "\n",
    "    def n_coef(self):\n",
    "        return len(self.coef)\n",
    "    \n",
    "    def degree(self):\n",
    "        return len(self.coef) - 1\n",
    "\n",
    "    def reduce(self):\n",
    "        last = self.n_coef()\n",
    "        for i in range(len(self.coef)-1, -1, -1):\n",
    "            if self.coef[i] != 0:\n",
    "                break\n",
    "            else:\n",
    "                last -= 1\n",
    "        self.coef = self.coef[:last]\n",
    "\n",
    "\n",
    "    def add(self, poly):\n",
    "        if self.n_coef() > poly.n_coef():\n",
    "            sum = self.coef\n",
    "            for i in range(poly.n_coef()):\n",
    "                sum[i] += poly.coef[i]\n",
    "            new_poly = MyPolynomial(sum)\n",
    "        else:\n",
    "            sum = poly.coef\n",
    "            for i in range(self.n_coef()):\n",
    "                sum[i] += self.coef[i]\n",
    "            new_poly = MyPolynomial(sum)\n",
    "        new_poly.reduce()\n",
    "        return new_poly\n",
    "    \n",
    "    def add_paillier(self, poly, pk):\n",
    "        if self.n_coef() > poly.n_coef():\n",
    "            sum = self.coef\n",
    "            for i in range(poly.n_coef()):\n",
    "                sum[i] = pk.add(self.coef[i], poly.coef[i])\n",
    "            new_poly = MyPolynomial(sum)\n",
    "        else:\n",
    "            sum = poly.coef\n",
    "            for i in range(self.n_coef()):\n",
    "                sum[i] = pk.add(self.coef[i], poly.coef[i])\n",
    "            new_poly = MyPolynomial(sum)\n",
    "        new_poly.reduce()\n",
    "        return new_poly\n",
    "    \n",
    "    def mul(self, poly):\n",
    "        new_coef = self.n_coef() + poly.n_coef() - 1\n",
    "        new_poly = MyPolynomial.empty(new_coef)\n",
    "\n",
    "        for i in range(self.n_coef()):\n",
    "            for j in range(poly.n_coef()):\n",
    "                new_poly.coef[i+j] += self.coef[i] * poly.coef[j]\n",
    "        new_poly.reduce()\n",
    "        return new_poly\n",
    "    \n",
    "    def mul_paillier(self, poly, pk):\n",
    "        #we assume self is ciphertext and poly is plaintext\n",
    "        new_coef = self.n_coef() + poly.n_coef() - 1\n",
    "        new_poly = MyPolynomial.empty(new_coef)\n",
    "        new_poly = MyPolynomial([pk.encrypt(x) for x in new_poly.coef])\n",
    "\n",
    "        for i in range(self.n_coef()):\n",
    "            for j in range(poly.n_coef()):\n",
    "                new_poly.coef[i+j] = pk.add(new_poly.coef[i+j], pk.mul(self.coef[i], poly.coef[j]))\n",
    "        new_poly.reduce()\n",
    "        return new_poly\n",
    "    \n",
    "    def deriv(self):\n",
    "        if self.n_coef() <= 1:\n",
    "            return MyPolynomial([1])    #batota\n",
    "\n",
    "        new_poly = MyPolynomial.empty(self.n_coef() - 1)\n",
    "        for i in range(new_poly.n_coef()):\n",
    "            new_poly.coef[i] = self.coef[i+1] * (i + 1)\n",
    "        new_poly.reduce()\n",
    "        return new_poly"
   ]
  },
  {
   "cell_type": "code",
   "execution_count": 356,
   "metadata": {},
   "outputs": [
    {
     "name": "stdout",
     "output_type": "stream",
     "text": [
      "[2, 2210756054, 1]\n"
     ]
    }
   ],
   "source": [
    "poly1 = MyPolynomial([-1, 1])\n",
    "poly1 = MyPolynomial([pk.encrypt(x) for x in poly1.coef])\n",
    "poly2 = MyPolynomial([-2, 1])\n",
    "#poly3 = poly1.mul(poly2)\n",
    "poly3 = poly1.mul_paillier(poly2, pk)\n",
    "poly3 = MyPolynomial([sk.decrypt(x) for x in poly3.coef])\n",
    "print(poly3.coef)"
   ]
  },
  {
   "cell_type": "code",
   "execution_count": 346,
   "metadata": {},
   "outputs": [
    {
     "name": "stdout",
     "output_type": "stream",
     "text": [
      "2\n"
     ]
    }
   ],
   "source": [
    "m1 = 0\n",
    "m1 = pk.encrypt(m1)\n",
    "m2 = 4255776987325955965\n",
    "m = pk.add(m1, m2)\n",
    "m = sk.decrypt(m)\n",
    "print(m)"
   ]
  },
  {
   "cell_type": "code",
   "execution_count": 375,
   "metadata": {},
   "outputs": [],
   "source": [
    "class Player:\n",
    "    \"\"\"\n",
    "    Class of honest-but-curious adversaries.\n",
    "\n",
    "    Parameters\n",
    "    ----------\n",
    "    S : set_like\n",
    "    sk : secret key to a homomorpic cryptosystem\n",
    "    \"\"\"\n",
    "    def __init__(self, S, sk):\n",
    "        self.S = S\n",
    "        self.k = len(S)\n",
    "        self.sk = sk\n",
    "        self.f_list = []\n",
    "        self.N = sk.pk.n\n",
    "    \n",
    "    def polynomial(self):\n",
    "        # cria o polinómio f a partir do conjunto S \n",
    "        self.f = MyPolynomial.fromroots(self.S)\n",
    "        #self.f = MyPolynomial([x % self.N for x in self.f.coef])\n",
    "        print(\"f:\", self.f.coef)\n",
    "    \n",
    "    def encrypt(self, pk):\n",
    "        # encipta o polinómio f com pk\n",
    "        self.ef = MyPolynomial([pk.encrypt(x) for x in self.f.coef])\n",
    "        self.f_list.append(self.ef)\n",
    "        print(\"ef:\", self.ef.coef)\n",
    "    \n",
    "    def append_f(self, encrypted_polynomial):\n",
    "        # adiciona polinomio encriptado de outro jogador a f_list\n",
    "        self.f_list.append(encrypted_polynomial)\n",
    "\n",
    "    def receive_l(self, encrypted_polynomial):\n",
    "        # recebe lambda_i-1\n",
    "        self.lam_im1 = encrypted_polynomial\n",
    "    \n",
    "    def receive_p(self, encrypted_polynomial):\n",
    "        #recebe p = lambda_n\n",
    "        self.ep = encrypted_polynomial\n",
    "        print(\"ep:\", self.ep.coef)\n",
    "\n",
    "    def phi(self):\n",
    "        # calcula phi_i\n",
    "        c = len(self.f_list)\n",
    "        r = []\n",
    "        for _ in range(c):\n",
    "            r.append(MyPolynomial([secrets.randbelow(self.N) for _ in range(self.k + 1)]))\n",
    "        #self.phi_i = sum([np.prod([self.f_list[j],r[j]]) for j in range(c)])\n",
    "\n",
    "        sum = MyPolynomial([self.sk.pk.encrypt(0)])\n",
    "        for j in range(c):\n",
    "            prod = self.f_list[j].mul_paillier(r[j], self.sk.pk)\n",
    "            print(\"prod:\", prod.coef)\n",
    "            #prod = self.f_list[j].mul(r[j])\n",
    "            sum = sum.add_paillier(prod, self.sk.pk)\n",
    "            #sum = sum.add(prod)\n",
    "        self.phi_i = sum\n",
    "        print(\"phi_i:\", self.phi_i.coef)\n",
    "        dec_phi_i = MyPolynomial([self.sk.decrypt(x) for x in self.phi_i.coef])\n",
    "        #for x in self.phi_i.coef:\n",
    "        #    x.obfuscate() #re-randomização dos coeficientes\n",
    "\n",
    "    def lam(self):\n",
    "        # calcula lambda_i\n",
    "        self.lam_i = self.lam_im1.add_paillier(self.phi_i, self.sk.pk)\n",
    "        print(\"lam_i:\", self.lam_i.coef)\n",
    "        #self.lam_i = self.lam_im1.add(self.phi_i)\n",
    "        #for x in self.lam_i.coef:\n",
    "        #    x.obfuscate() #re-randomização dos coeficientes\n",
    "    \n",
    "    def decrypt(self):\n",
    "        self.p = MyPolynomial([self.sk.decrypt(x) for x in self.ep.coef])\n",
    "        print(\"p:\", self.p.coef)\n",
    "\n",
    "    def multiset(self):\n",
    "        # calcula o multiset de intersecção na forma [(a,b),...,(a,b)], a \\in S_i\n",
    "        # onde o elemento a aparece b vezes no multiset\n",
    "\n",
    "\n",
    "        res = []\n",
    "        for elem in self.S:\n",
    "            degree = 0\n",
    "            poly = self.p\n",
    "            while poly(elem, self.N) == 0:\n",
    "                degree += 1\n",
    "                poly = poly.deriv()\n",
    "            if degree > 0:\n",
    "                res.append((elem, degree))\n",
    "        self.intersection = res\n",
    "\n",
    "    "
   ]
  },
  {
   "cell_type": "markdown",
   "metadata": {},
   "source": [
    "Soma de polinómios encriptados: `a.ef + b.ef`\n",
    "\n",
    "Produto de polinímio não encriptado com polinómio encriptado: `a.f * b.ef`\n",
    "\n",
    "Derivada de polinómio encriptado: `a.ef.deriv(d)`\n",
    "\n",
    "Avaliação de um polinómio encriptado num ponto não encriptado: `a.ef(x)`\n"
   ]
  },
  {
   "cell_type": "markdown",
   "metadata": {},
   "source": [
    "Função da secção 5.1"
   ]
  },
  {
   "cell_type": "code",
   "execution_count": 114,
   "metadata": {},
   "outputs": [],
   "source": [
    "def psi(players, c, pk):\n",
    "    \"\"\"\n",
    "    Perform a private Set-Intersection secure against a coalition of honest-but-curious\n",
    "    adversaries.\n",
    "\n",
    "    Parameters\n",
    "    ----------\n",
    "    players : array_like construct of class Player elements\n",
    "    c : dishonestly colluding constant\n",
    "    pk: public key to a homomorpic cryptosystem\n",
    "    \"\"\"\n",
    "    n = len(players)\n",
    "    assert n >= 2, \"Not enough players\"\n",
    "    assert c < n, \"Dishonestly colluding too large\"\n",
    "    assert all([player.k == players[0].k for player in players]),\\\n",
    "        \"Differently sized private sets\"\n",
    "    #1\n",
    "    for player in players:\n",
    "        #a\n",
    "        player.polynomial()       \n",
    "        player.encrypt(pk)\n",
    "    \n",
    "    #b\n",
    "    for i in range(n):\n",
    "        for j in range(1, c+1):\n",
    "            players[i].append_f(players[(i-j) % n].ef)\n",
    "        \n",
    "        # Qual é o domínio?? #consoante a resposta é preciso alterar a função phi\n",
    "        # DEFAULT_KEYSIZE = 3072\n",
    "        # BASE = 16\n",
    "        #c, d\n",
    "        players[i].phi()\n",
    "\n",
    "    #2\n",
    "    players[0].lam_i = players[0].phi_i\n",
    "    players[1].receive_l(players[0].lam_i)\n",
    "\n",
    "    #3\n",
    "    for i in range(1, n):\n",
    "        #a é realizado implicitamente\n",
    "        #b\n",
    "        players[i].lam()\n",
    "\n",
    "        #c\n",
    "        players[(i+1)%len(players)].receive_l(players[i].lam_i)\n",
    "    #4\n",
    "    for player in players:\n",
    "        player.receive_p(players[0].lam_i)\n",
    "\n",
    "    #5\n",
    "    for player in players:\n",
    "        player.decrypt()\n",
    "        pass\n",
    "    #6\n",
    "    for player in players:\n",
    "        player.multiset()"
   ]
  },
  {
   "cell_type": "code",
   "execution_count": 146,
   "metadata": {},
   "outputs": [],
   "source": [
    "# Generate keys\n",
    "pk, sk = paillier.generate_paillier_keypair(None, 16)\n",
    "pk.max_int = pk.nsquare"
   ]
  },
  {
   "cell_type": "code",
   "execution_count": null,
   "metadata": {},
   "outputs": [],
   "source": []
  },
  {
   "cell_type": "code",
   "execution_count": 376,
   "metadata": {},
   "outputs": [
    {
     "name": "stdout",
     "output_type": "stream",
     "text": [
      "f: [24, -50, 35, -10, 1]\n",
      "ef: [56075160079051818475854317352860845658, 30921026781220083718544040002481906715, 67947036293153041779299151121690103548, 85265418169951886962484012268141297992, 75651956617334374724018579471203350574]\n",
      "f: [1, -4, 6, -4, 1]\n",
      "ef: [79185002108098963551816828995696475251, 49681901021955399685623977994534668865, 1499418732840139151392285077680182887, 79158717410687194162652446897833395272, 40120840200341634605367905062552800860]\n",
      "prod: [39225088771874120520935960059033116725, 1462127483560529212849209727896524007, 29706945277448737882406026887479009950, 77718721016066534648135327852456770054, 10211970976308628512828811854057857291, 891924324872975922171691188276268582, 4827928383678959843927372220198738642, 77321274751934539772115368047325006135, 30617084602064294904084850815165273729]\n",
      "prod: [45763074555498030421714342439289189696, 49569508410599028030063741493004031045, 77056579752897968324338892421943608202, 46103769466751056963918325381243479632, 21939875900400420024848529756728750421, 29198820970143836608254748243050551007, 38674763504444294367048036762259801251, 7901660332289311230579139263511748359, 39488603785059321822096038627237801176]\n",
      "phi_i: [26188690765204320515213673287035786867, 72480406237014881120565335604986078209, 81051274077769163465134461651524034873, 47239971595363856409366704122362023259, 59712440285982456532431108027199003460, 86590760087645890651918031225129380615, 4336408903956685856062996302950663663, 3279447597910035878192632496306852897, 68978999203273522921380641823209669996]\n",
      "prod: [57988006076241101052772510693647951137, 52364285172352766250862156824230126556, 69080498564312632000128474793441871187, 37602991440685888783702034430758167881, 10612379171995546092138383843295122384, 19970988131198735488706991186775791789, 85414992022113890316186203078882856946, 2270046678691430332682680570250390019, 44165061073260822202538630199511719215]\n",
      "prod: [33369721555784971768842131329794158778, 30361510095758272207560061006751834373, 54967338784674745717268268650305572223, 11551868206352910163310281064650927362, 23911108160730638903823050262147612863, 43231515263281295571947779514784097968, 24699090169293930099955103926536633554, 69642059058485916216193093556509619102, 18670938613479189588690118894502873329]\n",
      "phi_i: [59425194397448165239647759560477877186, 70238940244557881651112072542820838121, 25128223862776679710904506779253479862, 14805138155322436113719719038140823546, 64749668527649788213912786576693674802, 82242726493158351776280642145016666343, 2610487712085511101220569066248576315, 95545787293294446286675435222495311527, 49486026070351951118591137795888796127]\n",
      "lam_i: [36376781388582303081091078644654677120, 73958855769842649518371799076323104157, 90424790396803108071932316010478855570, 25212330189891696760639738922211591317, 61513994201641398583731166015135700565, 20538680798128519430648462975430249294, 33502697297722994529827231419808438325, 26848004059414665431184603197244164088, 10070164095330992848253310373441562045]\n",
      "ep: [26188690765204320515213673287035786867, 72480406237014881120565335604986078209, 81051274077769163465134461651524034873, 47239971595363856409366704122362023259, 59712440285982456532431108027199003460, 86590760087645890651918031225129380615, 4336408903956685856062996302950663663, 3279447597910035878192632496306852897, 68978999203273522921380641823209669996]\n",
      "ep: [26188690765204320515213673287035786867, 72480406237014881120565335604986078209, 81051274077769163465134461651524034873, 47239971595363856409366704122362023259, 59712440285982456532431108027199003460, 86590760087645890651918031225129380615, 4336408903956685856062996302950663663, 3279447597910035878192632496306852897, 68978999203273522921380641823209669996]\n",
      "p: [7832903593081769565, 1070419111164519721, 6066636483449007561, 1135438164431068784, 5049363256735281525, 5388885178267754117, 3125742202251996635, 3406815505243759146, 6085154835144643662]\n",
      "p: [7832903593081769565, 1070419111164519721, 6066636483449007561, 1135438164431068784, 5049363256735281525, 5388885178267754117, 3125742202251996635, 3406815505243759146, 6085154835144643662]\n"
     ]
    }
   ],
   "source": [
    "pk, sk = generateKeyPair(64)\n",
    "\n",
    "a = Player([1,2,3,4],sk)\n",
    "b = Player([1,1,1,1],sk)\n",
    "\n",
    "# Calculate private set\n",
    "psi([a,b],1,pk)"
   ]
  },
  {
   "cell_type": "code",
   "execution_count": 377,
   "metadata": {},
   "outputs": [
    {
     "name": "stdout",
     "output_type": "stream",
     "text": [
      "(1, 1)\n",
      "0\n",
      "3731200348963413001\n",
      "1055505725730582497\n",
      "9021990112853882041\n"
     ]
    }
   ],
   "source": [
    "#find private set\n",
    "for x in a.intersection:\n",
    "    print(x)\n",
    "\n",
    "for x in a.S:\n",
    "    print(a.p(x, pk.n))\n"
   ]
  },
  {
   "cell_type": "code",
   "execution_count": 177,
   "metadata": {},
   "outputs": [
    {
     "name": "stdout",
     "output_type": "stream",
     "text": [
      "key generated\n",
      "44462 <class 'int'> 1000 <class 'int'> 1976780521 <class 'int'> 19282 <class 'int'> 44461 <class 'int'>\n",
      "44462 <class 'int'> 5000 <class 'int'> 1976780521 <class 'int'> 34159 <class 'int'> 44461 <class 'int'>\n",
      "44462 <class 'int'> 500 <class 'int'> 1976780521 <class 'int'> 41930 <class 'int'> 44461 <class 'int'>\n",
      "[675046127, 1958857151, 716068006]\n",
      "[1000, 5000, 500]\n"
     ]
    }
   ],
   "source": [
    "m = MyPolynomial([1000, 5000, 500])\n",
    "pk, sk = generateKeyPair(16)\n",
    "print(\"key generated\")\n",
    "c = MyPolynomial([pk.encrypt(x) for x in m.coef])\n",
    "print(c.coef)\n",
    "d = MyPolynomial([sk.decrypt(x) for x in c.coef])\n",
    "print(d.coef)"
   ]
  },
  {
   "cell_type": "code",
   "execution_count": 135,
   "metadata": {},
   "outputs": [
    {
     "name": "stdout",
     "output_type": "stream",
     "text": [
      "[1, 2, 1]\n",
      "[1 2 1]\n",
      "47942 <class 'int'> 1 <class 'int'> 2298339481 <class 'int'> 40222 <class 'int'> 47941 <class 'int'>\n",
      "47942 <class 'int'> 2 <class 'int'> 2298339481 <class 'int'> 3918 <class 'int'> 47941 <class 'int'>\n",
      "47942 <class 'int'> 1 <class 'int'> 2298339481 <class 'int'> 4310 <class 'int'> 47941 <class 'int'>\n",
      "47942 <class 'int'> 1 <class 'int'> 2298339481 <class 'int'> 22535 <class 'int'> 47941 <class 'int'>\n",
      "47942 <class 'int'> 2 <class 'int'> 2298339481 <class 'int'> 27999 <class 'int'> 47941 <class 'int'>\n",
      "47942 <class 'int'> 1 <class 'int'> 2298339481 <class 'int'> 44968 <class 'int'> 47941 <class 'int'>\n"
     ]
    },
    {
     "ename": "OverflowError",
     "evalue": "Python int too large to convert to C long",
     "output_type": "error",
     "traceback": [
      "\u001b[1;31m---------------------------------------------------------------------------\u001b[0m",
      "\u001b[1;31mOverflowError\u001b[0m                             Traceback (most recent call last)",
      "Cell \u001b[1;32mIn[135], line 7\u001b[0m\n\u001b[0;32m      5\u001b[0m \u001b[38;5;28mprint\u001b[39m(b\u001b[38;5;241m.\u001b[39mcoef)\n\u001b[0;32m      6\u001b[0m c \u001b[38;5;241m=\u001b[39m [sk\u001b[38;5;241m.\u001b[39mpk\u001b[38;5;241m.\u001b[39mencrypt(x) \u001b[38;5;28;01mfor\u001b[39;00m x \u001b[38;5;129;01min\u001b[39;00m a]\n\u001b[1;32m----> 7\u001b[0m d \u001b[38;5;241m=\u001b[39m MyPolynomial([sk\u001b[38;5;241m.\u001b[39mpk\u001b[38;5;241m.\u001b[39mencrypt(x) \u001b[38;5;28;01mfor\u001b[39;00m x \u001b[38;5;129;01min\u001b[39;00m b\u001b[38;5;241m.\u001b[39mcoef])\n\u001b[0;32m      9\u001b[0m e \u001b[38;5;241m=\u001b[39m [sk\u001b[38;5;241m.\u001b[39mdecrypt(x) \u001b[38;5;28;01mfor\u001b[39;00m x \u001b[38;5;129;01min\u001b[39;00m c]\n\u001b[0;32m     10\u001b[0m f \u001b[38;5;241m=\u001b[39m MyPolynomial([sk\u001b[38;5;241m.\u001b[39mdecrypt(x) \u001b[38;5;28;01mfor\u001b[39;00m x \u001b[38;5;129;01min\u001b[39;00m d\u001b[38;5;241m.\u001b[39mcoef])\n",
      "Cell \u001b[1;32mIn[82], line 3\u001b[0m, in \u001b[0;36mMyPolynomial.__init__\u001b[1;34m(self, coef)\u001b[0m\n\u001b[0;32m      2\u001b[0m \u001b[38;5;28;01mdef\u001b[39;00m \u001b[38;5;21m__init__\u001b[39m(\u001b[38;5;28mself\u001b[39m, coef):\n\u001b[1;32m----> 3\u001b[0m     \u001b[38;5;28mself\u001b[39m\u001b[38;5;241m.\u001b[39mcoef \u001b[38;5;241m=\u001b[39m np\u001b[38;5;241m.\u001b[39marray(coef, dtype\u001b[38;5;241m=\u001b[39m\u001b[38;5;28mint\u001b[39m)\n",
      "\u001b[1;31mOverflowError\u001b[0m: Python int too large to convert to C long"
     ]
    }
   ],
   "source": [
    "#testes\n",
    "a = [1, 2, 1] #experimentem assim e com [1., 2., 1.,]  o polinomio força os ints a floats e lixa a encriptação!\n",
    "b = MyPolynomial(a)\n",
    "print(a)\n",
    "print(b.coef)\n",
    "c = [sk.pk.encrypt(x) for x in a]\n",
    "d = MyPolynomial([sk.pk.encrypt(x) for x in b.coef])\n",
    "\n",
    "e = [sk.decrypt(x) for x in c]\n",
    "f = MyPolynomial([sk.decrypt(x) for x in d.coef])\n",
    "print(e)\n",
    "print(f.coef)"
   ]
  },
  {
   "cell_type": "code",
   "execution_count": 131,
   "metadata": {},
   "outputs": [
    {
     "name": "stdout",
     "output_type": "stream",
     "text": [
      "42198 2481564240\n",
      "47942 <class 'int'> 2481564240 <class 'int'> 2298339481 <class 'int'> 4510 <class 'int'> 47941 <class 'int'>\n",
      "42198\n"
     ]
    }
   ],
   "source": [
    "a = secrets.randbelow(pk.n) * secrets.randbelow(pk.n) + secrets.randbelow(pk.n) * secrets.randbelow(pk.n) + secrets.randbelow(pk.n) * secrets.randbelow(pk.n)\n",
    "print(a % pk.n, a)\n",
    "b = pk.encrypt(a)\n",
    "c = sk.decrypt(b)\n",
    "print(c)"
   ]
  },
  {
   "cell_type": "code",
   "execution_count": 14,
   "metadata": {},
   "outputs": [
    {
     "name": "stdout",
     "output_type": "stream",
     "text": [
      "Soma:\n",
      "-30.0 + 37.0 x - 15.0 x**2 + 2.0 x**3\n",
      "Multiplicação:\n",
      "144.0 - 420.0 x + 484.0 x**2 - 285.0 x**3 + 91.0 x**4 - 15.0 x**5 +\n",
      "1.0 x**6\n",
      "Derivada:\n",
      "-12.0 + 6.0 x\n",
      "Avaliação:\n",
      "-6.0\n"
     ]
    }
   ],
   "source": [
    "# Teste das operações definidas em 4.2\n",
    "pk, sk = paillier.generate_paillier_keypair()\n",
    "a = Player([1,2,3],sk)\n",
    "b = Player([2,3,4],sk)\n",
    "a.polynomial()\n",
    "b.polynomial()\n",
    "a.encrypt(pk)\n",
    "b.encrypt(pk)\n",
    "\n",
    "d = 2\n",
    "x = 0\n",
    "print(f\"Soma:\\n{a.ef + b.ef}\")\n",
    "print(f\"Multiplicação:\\n{a.f * b.ef}\")\n",
    "print(f\"Derivada:\\n{a.ef.deriv(d)}\")\n",
    "print(f\"Avaliação:\\n{a.ef(x)}\")\n"
   ]
  }
 ],
 "metadata": {
  "kernelspec": {
   "display_name": "Python 3",
   "language": "python",
   "name": "python3"
  },
  "language_info": {
   "codemirror_mode": {
    "name": "ipython",
    "version": 3
   },
   "file_extension": ".py",
   "mimetype": "text/x-python",
   "name": "python",
   "nbconvert_exporter": "python",
   "pygments_lexer": "ipython3",
   "version": "3.11.7"
  }
 },
 "nbformat": 4,
 "nbformat_minor": 2
}
