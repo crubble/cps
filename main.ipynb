{
 "cells": [
  {
   "cell_type": "code",
   "execution_count": 402,
   "metadata": {},
   "outputs": [],
   "source": [
    "from numpy.polynomial import Polynomial\n",
    "from numpy.polynomial.polynomial import polydiv\n",
    "from phe import paillier\n",
    "import numpy as np\n",
    "import secrets"
   ]
  },
  {
   "cell_type": "code",
   "execution_count": 403,
   "metadata": {},
   "outputs": [],
   "source": [
    "class Player:\n",
    "    \"\"\"\n",
    "    Class of honest-but-curious adversaries.\n",
    "\n",
    "    Parameters\n",
    "    ----------\n",
    "    S : set_like\n",
    "    sk : secret key to a homomorpic cryptosystem\n",
    "    \"\"\"\n",
    "    def __init__(self, S, sk):\n",
    "        self.S = S\n",
    "        self.k = len(S)\n",
    "        self.sk = sk\n",
    "        self.f_list = []\n",
    "        self.N = sk.public_key.n\n",
    "    \n",
    "    def polynomial(self):\n",
    "        # cria o polinómio f a partir do conjunto S \n",
    "        self.f = Polynomial.fromroots(self.S)\n",
    "    \n",
    "    def encrypt(self, pk):\n",
    "        # encipta o polinómio f com pk\n",
    "        self.ef = self.f#Polynomial([pk.encrypt(x) for x in self.f.coef])\n",
    "        self.f_list.append(self.ef)\n",
    "    \n",
    "    def append_f(self, encrypted_polynomial):\n",
    "        # adiciona polinomio encriptado de outro jogador a f_list\n",
    "        self.f_list.append(encrypted_polynomial)\n",
    "\n",
    "    def receive_l(self, encrypted_polynomial):\n",
    "        # recebe lambda_i-1\n",
    "        self.lam_im1 = encrypted_polynomial\n",
    "    \n",
    "    def receive_p(self, encrypted_polynomial):\n",
    "        #recebe p = lambda_n\n",
    "        self.ep = encrypted_polynomial\n",
    "\n",
    "    def phi(self):\n",
    "        # calcula phi_i\n",
    "        c = len(self.f_list)\n",
    "        r = []\n",
    "        for _ in range(c):\n",
    "            r.append(Polynomial([secrets.randbelow(self.N) for _ in range(self.k + 1)]))\n",
    "        self.phi_i = sum([prod([self.f_list[j],r[j]]) for j in range(c)])\n",
    "        #for x in self.phi_i.coef:\n",
    "        #    x.obfuscate() #re-randomização dos coeficientes\n",
    "\n",
    "    def lam(self):\n",
    "        # calcula lambda_i\n",
    "        self.lam_i = self.lam_im1 + self.phi_i\n",
    "        #for x in self.lam_i.coef:\n",
    "        #    x.obfuscate() #re-randomização dos coeficientes\n",
    "    \n",
    "    def decrypt(self):\n",
    "        self.p = self.ep#Polynomial([self.sk.decrypt(x) for x in self.ep.coef])\n",
    "\n",
    "    def multiset(self):\n",
    "        # calcula o multiset de intersecção na forma [(a,b),...,(a,b)], a \\in S_i\n",
    "        # onde o elemento a aparece b vezes no multiset\n",
    "\n",
    "        #print(self.p.coef)\n",
    "        #self.p = Polynomial([self.sk.public_key.encrypt(int(x)) for x in self.p.coef])\n",
    "        #self.p = Polynomial([self.sk.decrypt(x) for x in self.p.coef])\n",
    "\n",
    "        res = []\n",
    "        for elem in self.S:\n",
    "            degree = 0\n",
    "            poly = self.p\n",
    "            while poly(elem) == 0:\n",
    "                degree += 1\n",
    "                poly = poly.deriv(1)\n",
    "            if degree > 0:\n",
    "                res.append((elem, degree))\n",
    "        self.intersection = res\n",
    "\n",
    "    "
   ]
  },
  {
   "cell_type": "markdown",
   "metadata": {},
   "source": [
    "Soma de polinómios encriptados: `a.ef + b.ef`\n",
    "\n",
    "Produto de polinímio não encriptado com polinómio encriptado: `a.f * b.ef`\n",
    "\n",
    "Derivada de polinómio encriptado: `a.ef.deriv(d)`\n",
    "\n",
    "Avaliação de um polinómio encriptado num ponto não encriptado: `a.ef(x)`\n"
   ]
  },
  {
   "cell_type": "markdown",
   "metadata": {},
   "source": [
    "Função da secção 5.1"
   ]
  },
  {
   "cell_type": "code",
   "execution_count": 404,
   "metadata": {},
   "outputs": [],
   "source": [
    "def psi(players, c, pk):\n",
    "    \"\"\"\n",
    "    Perform a private Set-Intersection secure against a coalition of honest-but-curious\n",
    "    adversaries.\n",
    "\n",
    "    Parameters\n",
    "    ----------\n",
    "    players : array_like construct of class Player elements\n",
    "    c : dishonestly colluding constant\n",
    "    pk: public key to a homomorpic cryptosystem\n",
    "    \"\"\"\n",
    "    n = len(players)\n",
    "    assert n >= 2, \"Not enough players\"\n",
    "    assert c < n, \"Dishonestly colluding too large\"\n",
    "    assert all([player.k == players[0].k for player in players]),\\\n",
    "        \"Differently sized private sets\"\n",
    "    #1\n",
    "    for player in players:\n",
    "        #a\n",
    "        player.polynomial()       \n",
    "        player.encrypt(pk)\n",
    "    \n",
    "    #b\n",
    "    for i in range(n):\n",
    "        for j in range(1, c+1):\n",
    "            players[i].append_f(players[(i-j) % n].ef)\n",
    "        \n",
    "        # Qual é o domínio?? #consoante a resposta é preciso alterar a função phi\n",
    "        # DEFAULT_KEYSIZE = 3072\n",
    "        # BASE = 16\n",
    "        #c, d\n",
    "        players[i].phi()\n",
    "\n",
    "    #2\n",
    "    players[0].lam_i = players[0].phi_i\n",
    "    players[1].receive_l(players[0].lam_i)\n",
    "\n",
    "    #3\n",
    "    for i in range(1, n):\n",
    "        #a é realizado implicitamente\n",
    "        #b\n",
    "        players[i].lam()\n",
    "\n",
    "        #c\n",
    "        players[(i+1)%len(players)].receive_l(players[i].lam_i)\n",
    "    #4\n",
    "    for player in players:\n",
    "        player.receive_p(players[0].lam_i)\n",
    "\n",
    "    #5\n",
    "    for player in players:\n",
    "        player.decrypt()\n",
    "        pass\n",
    "    #6\n",
    "    for player in players:\n",
    "        player.multiset()"
   ]
  },
  {
   "cell_type": "code",
   "execution_count": 146,
   "metadata": {},
   "outputs": [],
   "source": [
    "# Generate keys\n",
    "pk, sk = paillier.generate_paillier_keypair(None, 32)\n",
    "pk.max_int = pk.nsquare"
   ]
  },
  {
   "cell_type": "code",
   "execution_count": 164,
   "metadata": {},
   "outputs": [],
   "source": []
  },
  {
   "cell_type": "code",
   "execution_count": 405,
   "metadata": {},
   "outputs": [],
   "source": [
    "pk, sk = paillier.generate_paillier_keypair(None, 32)\n",
    "pk.max_int = pk.nsquare\n",
    "\n",
    "a = Player([1,2,3,4,5],sk)\n",
    "b = Player([1,1,1,1,1],sk)\n",
    "\n",
    "# Calculate private set\n",
    "psi([a,b],1,pk)"
   ]
  },
  {
   "cell_type": "code",
   "execution_count": 406,
   "metadata": {},
   "outputs": [
    {
     "name": "stdout",
     "output_type": "stream",
     "text": [
      "(1, 1)\n",
      "0.0\n",
      "81277949206.0\n",
      "15344043727168.0\n",
      "448290293032530.0\n",
      "5511563697117184.0\n"
     ]
    }
   ],
   "source": [
    "#find private set\n",
    "for x in a.intersection:\n",
    "    print(x)\n",
    "\n",
    "dp = a.p.deriv(0)\n",
    "for x in a.S:\n",
    "    print(dp(x))\n"
   ]
  },
  {
   "cell_type": "code",
   "execution_count": 408,
   "metadata": {},
   "outputs": [
    {
     "name": "stdout",
     "output_type": "stream",
     "text": [
      "[1, 2, 1]\n",
      "[1. 2. 1.]\n",
      "[1, 2, 1]\n",
      "[1. 2. 1.]\n"
     ]
    }
   ],
   "source": [
    "#testes\n",
    "a = [1, 2, 1] #experimentem assim e com [1., 2., 1.,]  o polinomio força os ints a floats e lixa a encriptação!\n",
    "b = Polynomial(a)\n",
    "print(a)\n",
    "print(b.coef)\n",
    "c = [sk.public_key.encrypt(x) for x in a]\n",
    "d = Polynomial([sk.public_key.encrypt(int(x)) for x in b.coef])\n",
    "\n",
    "e = [sk.decrypt(x) for x in c]\n",
    "f = Polynomial([sk.decrypt(x) for x in d.coef])\n",
    "print(e)\n",
    "print(f.coef)"
   ]
  },
  {
   "cell_type": "code",
   "execution_count": null,
   "metadata": {},
   "outputs": [],
   "source": [
    "#compare make sure the sets are the same"
   ]
  },
  {
   "cell_type": "code",
   "execution_count": 14,
   "metadata": {},
   "outputs": [
    {
     "name": "stdout",
     "output_type": "stream",
     "text": [
      "Soma:\n",
      "-30.0 + 37.0 x - 15.0 x**2 + 2.0 x**3\n",
      "Multiplicação:\n",
      "144.0 - 420.0 x + 484.0 x**2 - 285.0 x**3 + 91.0 x**4 - 15.0 x**5 +\n",
      "1.0 x**6\n",
      "Derivada:\n",
      "-12.0 + 6.0 x\n",
      "Avaliação:\n",
      "-6.0\n"
     ]
    }
   ],
   "source": [
    "# Teste das operações definidas em 4.2\n",
    "pk, sk = paillier.generate_paillier_keypair()\n",
    "a = Player([1,2,3],sk)\n",
    "b = Player([2,3,4],sk)\n",
    "a.polynomial()\n",
    "b.polynomial()\n",
    "a.encrypt(pk)\n",
    "b.encrypt(pk)\n",
    "\n",
    "d = 2\n",
    "x = 0\n",
    "print(f\"Soma:\\n{a.ef + b.ef}\")\n",
    "print(f\"Multiplicação:\\n{a.f * b.ef}\")\n",
    "print(f\"Derivada:\\n{a.ef.deriv(d)}\")\n",
    "print(f\"Avaliação:\\n{a.ef(x)}\")\n"
   ]
  },
  {
   "cell_type": "code",
   "execution_count": 439,
   "metadata": {},
   "outputs": [],
   "source": [
    "class MyPolynomial:\n",
    "    def __init__(self, coef):\n",
    "        self.coef = coef\n",
    "\n",
    "    def empty(n):\n",
    "        return MyPolynomial(np.zeros(n, dtype = int))\n",
    "\n",
    "    def fromroots(roots):\n",
    "        new_poly = MyPolynomial([])\n",
    "        for x in roots:\n",
    "            new_poly = new_poly.mul(MyPolynomial([-x, 1]))\n",
    "        return new_poly\n",
    "\n",
    "    def n_coef(self):\n",
    "        return len(self.coef)\n",
    "    \n",
    "    def degree(self):\n",
    "        return len(self.coef) - 1\n",
    "\n",
    "    def reduce(self):\n",
    "        last = self.n_coef()\n",
    "        for i in range(len(self.coef)-1, -1, -1):\n",
    "            if self.coef[i] != 0:\n",
    "                break\n",
    "            else:\n",
    "                last -= 1\n",
    "        self.coef = self.coef[:last]\n",
    "\n",
    "\n",
    "    def add(self, poly):\n",
    "        if self.n_coef() > poly.n_coef():\n",
    "            sum = self.coef\n",
    "            for i in range(poly.n_coef()):\n",
    "                sum[i] += poly.coef[i]\n",
    "            new_poly = MyPolynomial(sum)\n",
    "        else:\n",
    "            sum = poly.coef\n",
    "            for i in range(self.n_coef()):\n",
    "                sum[i] += self.coef[i]\n",
    "            new_poly = MyPolynomial(sum)\n",
    "        new_poly.reduce()\n",
    "        return new_poly\n",
    "    \n",
    "    def mul(self, poly):\n",
    "        new_coef = self.n_coef() + poly.n_coef() - 1\n",
    "        new_poly = MyPolynomial.empty(new_coef)\n",
    "\n",
    "        for i in range(self.n_coef()):\n",
    "            for j in range(poly.n_coef()):\n",
    "                new_poly.coef[i+j] += self.coef[i] * poly.coef[j]\n",
    "        new_poly.reduce()\n",
    "        return new_poly\n",
    "            "
   ]
  },
  {
   "cell_type": "code",
   "execution_count": 440,
   "metadata": {},
   "outputs": [
    {
     "name": "stdout",
     "output_type": "stream",
     "text": [
      "<__main__.MyPolynomial object at 0x0000027B1D5B8C90>\n",
      "<__main__.MyPolynomial object at 0x0000027B1C8A10D0>\n",
      "[]\n"
     ]
    }
   ],
   "source": [
    "poly1 = MyPolynomial.fromroots([1, -1])\n",
    "print(poly1.coef)"
   ]
  }
 ],
 "metadata": {
  "kernelspec": {
   "display_name": "Python 3",
   "language": "python",
   "name": "python3"
  },
  "language_info": {
   "codemirror_mode": {
    "name": "ipython",
    "version": 3
   },
   "file_extension": ".py",
   "mimetype": "text/x-python",
   "name": "python",
   "nbconvert_exporter": "python",
   "pygments_lexer": "ipython3",
   "version": "3.11.7"
  }
 },
 "nbformat": 4,
 "nbformat_minor": 2
}
